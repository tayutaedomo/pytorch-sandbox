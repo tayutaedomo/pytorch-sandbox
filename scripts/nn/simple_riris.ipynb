{
 "cells": [
  {
   "cell_type": "code",
   "execution_count": 1,
   "metadata": {},
   "outputs": [
    {
     "name": "stdout",
     "output_type": "stream",
     "text": [
      "(150, 4) (150,)\n"
     ]
    }
   ],
   "source": [
    "from sklearn.datasets import load_iris\n",
    "\n",
    "x, t = load_iris(return_X_y=True)\n",
    "print(x.shape, t.shape)"
   ]
  },
  {
   "cell_type": "code",
   "execution_count": 2,
   "metadata": {},
   "outputs": [],
   "source": [
    "import torch\n",
    "import torch.nn as nn\n",
    "import torch.nn.functional as F\n",
    "import torch.utils.data"
   ]
  },
  {
   "cell_type": "code",
   "execution_count": 3,
   "metadata": {},
   "outputs": [
    {
     "name": "stdout",
     "output_type": "stream",
     "text": [
      "<class 'torch.Tensor'> <class 'torch.Tensor'> torch.float32 torch.int64\n"
     ]
    }
   ],
   "source": [
    "x = torch.tensor(x, dtype=torch.float32)\n",
    "t = torch.tensor(t, dtype=torch.int64)\n",
    "\n",
    "print(type(x), type(t), x.dtype, t.dtype)"
   ]
  },
  {
   "cell_type": "code",
   "execution_count": 5,
   "metadata": {},
   "outputs": [
    {
     "name": "stdout",
     "output_type": "stream",
     "text": [
      "<torch.utils.data.dataset.TensorDataset object at 0x12d926fd0>\n",
      "(tensor([5.1000, 3.5000, 1.4000, 0.2000]), tensor(0))\n",
      "tensor([5.1000, 3.5000, 1.4000, 0.2000]) tensor(0)\n",
      "150\n"
     ]
    }
   ],
   "source": [
    "dataset = torch.utils.data.TensorDataset(x, t)\n",
    "print(dataset)\n",
    "print(dataset[0])\n",
    "print(dataset[0][0], dataset[0][1])\n",
    "print(len(dataset))"
   ]
  },
  {
   "cell_type": "code",
   "execution_count": 6,
   "metadata": {},
   "outputs": [
    {
     "name": "stdout",
     "output_type": "stream",
     "text": [
      "90 30 30\n"
     ]
    }
   ],
   "source": [
    "n_train = int(len(dataset) * 0.6)\n",
    "n_val = int(len(dataset) * 0.2)\n",
    "n_test = len(dataset) - n_train - n_val\n",
    "print(n_train, n_val, n_test)"
   ]
  },
  {
   "cell_type": "code",
   "execution_count": 7,
   "metadata": {},
   "outputs": [
    {
     "name": "stdout",
     "output_type": "stream",
     "text": [
      "90 30 30\n"
     ]
    }
   ],
   "source": [
    "torch.manual_seed(0)\n",
    "\n",
    "train, val, test = torch.utils.data.random_split(dataset, [n_train, n_val, n_test])\n",
    "print(len(train), len(val), len(test))"
   ]
  },
  {
   "cell_type": "code",
   "execution_count": 8,
   "metadata": {},
   "outputs": [],
   "source": [
    "batch_size = 10\n",
    "\n",
    "train_loader = torch.utils.data.DataLoader(train, batch_size, shuffle=True)\n",
    "val_loader = torch.utils.data.DataLoader(val, batch_size)\n",
    "test_loader = torch.utils.data.DataLoader(test, batch_size)"
   ]
  },
  {
   "cell_type": "code",
   "execution_count": 9,
   "metadata": {},
   "outputs": [],
   "source": [
    "class Net(nn.Module):\n",
    "    def __init__(self):\n",
    "        super(Net, self).__init__()\n",
    "        self.fc1 = nn.Linear(4, 4)\n",
    "        self.fc2 = nn.Linear(4, 3)\n",
    "\n",
    "    def forward(self, x):\n",
    "        x = self.fc1(x)\n",
    "        x = F.relu(x)\n",
    "        x = self.fc2(x)\n",
    "        return x"
   ]
  },
  {
   "cell_type": "code",
   "execution_count": 10,
   "metadata": {},
   "outputs": [
    {
     "name": "stdout",
     "output_type": "stream",
     "text": [
      "Net(\n",
      "  (fc1): Linear(in_features=4, out_features=4, bias=True)\n",
      "  (fc2): Linear(in_features=4, out_features=3, bias=True)\n",
      ")\n"
     ]
    }
   ],
   "source": [
    "torch.manual_seed(0)\n",
    "\n",
    "net = Net()\n",
    "print(net)"
   ]
  },
  {
   "cell_type": "code",
   "execution_count": 12,
   "metadata": {},
   "outputs": [
    {
     "name": "stdout",
     "output_type": "stream",
     "text": [
      "CrossEntropyLoss()\n"
     ]
    }
   ],
   "source": [
    "criterion = nn.CrossEntropyLoss()\n",
    "print(criterion)"
   ]
  },
  {
   "cell_type": "code",
   "execution_count": 13,
   "metadata": {},
   "outputs": [
    {
     "name": "stdout",
     "output_type": "stream",
     "text": [
      "SGD (\n",
      "Parameter Group 0\n",
      "    dampening: 0\n",
      "    lr: 0.1\n",
      "    momentum: 0\n",
      "    nesterov: False\n",
      "    weight_decay: 0\n",
      ")\n"
     ]
    }
   ],
   "source": [
    "optimizer = torch.optim.SGD(net.parameters(), lr=0.1)\n",
    "print(optimizer)"
   ]
  },
  {
   "cell_type": "code",
   "execution_count": 14,
   "metadata": {},
   "outputs": [
    {
     "name": "stdout",
     "output_type": "stream",
     "text": [
      "[tensor([[6.4000, 3.2000, 5.3000, 2.3000],\n",
      "        [6.4000, 2.7000, 5.3000, 1.9000],\n",
      "        [5.9000, 3.0000, 4.2000, 1.5000],\n",
      "        [6.9000, 3.1000, 5.4000, 2.1000],\n",
      "        [5.5000, 2.4000, 3.8000, 1.1000],\n",
      "        [5.6000, 2.7000, 4.2000, 1.3000],\n",
      "        [5.8000, 2.7000, 5.1000, 1.9000],\n",
      "        [6.9000, 3.1000, 4.9000, 1.5000],\n",
      "        [6.3000, 2.3000, 4.4000, 1.3000],\n",
      "        [7.2000, 3.0000, 5.8000, 1.6000]]), tensor([2, 2, 1, 2, 1, 1, 2, 1, 1, 2])]\n"
     ]
    }
   ],
   "source": [
    "batch = next(iter(train_loader))\n",
    "print(batch)"
   ]
  },
  {
   "cell_type": "code",
   "execution_count": 15,
   "metadata": {},
   "outputs": [
    {
     "name": "stdout",
     "output_type": "stream",
     "text": [
      "tensor([[6.4000, 3.2000, 5.3000, 2.3000],\n",
      "        [6.4000, 2.7000, 5.3000, 1.9000],\n",
      "        [5.9000, 3.0000, 4.2000, 1.5000],\n",
      "        [6.9000, 3.1000, 5.4000, 2.1000],\n",
      "        [5.5000, 2.4000, 3.8000, 1.1000],\n",
      "        [5.6000, 2.7000, 4.2000, 1.3000],\n",
      "        [5.8000, 2.7000, 5.1000, 1.9000],\n",
      "        [6.9000, 3.1000, 4.9000, 1.5000],\n",
      "        [6.3000, 2.3000, 4.4000, 1.3000],\n",
      "        [7.2000, 3.0000, 5.8000, 1.6000]])\n",
      "tensor([2, 2, 1, 2, 1, 1, 2, 1, 1, 2])\n"
     ]
    }
   ],
   "source": [
    "x, t = batch\n",
    "print(x)\n",
    "print(t)"
   ]
  },
  {
   "cell_type": "code",
   "execution_count": 16,
   "metadata": {},
   "outputs": [
    {
     "name": "stdout",
     "output_type": "stream",
     "text": [
      "Parameter containing:\n",
      "tensor([[-0.0037,  0.2682, -0.4115, -0.3680],\n",
      "        [-0.1926,  0.1341, -0.0099,  0.3964],\n",
      "        [-0.0444,  0.1323, -0.1511, -0.0983],\n",
      "        [-0.4777, -0.3311, -0.2061,  0.0185]], requires_grad=True)\n",
      "Parameter containing:\n",
      "tensor([ 0.1977,  0.3000, -0.3390, -0.2177], requires_grad=True)\n",
      "Parameter containing:\n",
      "tensor([[ 0.1816,  0.4152, -0.1029,  0.3742],\n",
      "        [-0.0806,  0.0529,  0.4527, -0.4638],\n",
      "        [-0.3148, -0.1266, -0.1949,  0.4320]], requires_grad=True)\n",
      "Parameter containing:\n",
      "tensor([-0.3241, -0.2302, -0.3493], requires_grad=True)\n"
     ]
    }
   ],
   "source": [
    "print(net.fc1.weight)\n",
    "print(net.fc1.bias)\n",
    "\n",
    "print(net.fc2.weight)\n",
    "print(net.fc2.bias)"
   ]
  },
  {
   "cell_type": "code",
   "execution_count": 17,
   "metadata": {},
   "outputs": [
    {
     "name": "stdout",
     "output_type": "stream",
     "text": [
      "tensor([[-0.1763, -0.2113, -0.3944],\n",
      "        [-0.2700, -0.2233, -0.3658],\n",
      "        [-0.2746, -0.2239, -0.3644],\n",
      "        [-0.2552, -0.2214, -0.3703],\n",
      "        [-0.3241, -0.2302, -0.3493],\n",
      "        [-0.3003, -0.2271, -0.3566],\n",
      "        [-0.2212, -0.2171, -0.3807],\n",
      "        [-0.3241, -0.2302, -0.3493],\n",
      "        [-0.3241, -0.2302, -0.3493],\n",
      "        [-0.3241, -0.2302, -0.3493]], grad_fn=<AddmmBackward>)\n"
     ]
    }
   ],
   "source": [
    "y = net.forward(x)\n",
    "print(y)"
   ]
  },
  {
   "cell_type": "code",
   "execution_count": 18,
   "metadata": {},
   "outputs": [
    {
     "name": "stdout",
     "output_type": "stream",
     "text": [
      "tensor([[-0.1763, -0.2113, -0.3944],\n",
      "        [-0.2700, -0.2233, -0.3658],\n",
      "        [-0.2746, -0.2239, -0.3644],\n",
      "        [-0.2552, -0.2214, -0.3703],\n",
      "        [-0.3241, -0.2302, -0.3493],\n",
      "        [-0.3003, -0.2271, -0.3566],\n",
      "        [-0.2212, -0.2171, -0.3807],\n",
      "        [-0.3241, -0.2302, -0.3493],\n",
      "        [-0.3241, -0.2302, -0.3493],\n",
      "        [-0.3241, -0.2302, -0.3493]], grad_fn=<AddmmBackward>)\n"
     ]
    }
   ],
   "source": [
    "y = net(x)\n",
    "print(y)"
   ]
  },
  {
   "cell_type": "code",
   "execution_count": 19,
   "metadata": {},
   "outputs": [
    {
     "name": "stdout",
     "output_type": "stream",
     "text": [
      "tensor(1.1118, grad_fn=<NllLossBackward>)\n"
     ]
    }
   ],
   "source": [
    "loss = criterion(y, t)\n",
    "print(loss)"
   ]
  },
  {
   "cell_type": "code",
   "execution_count": 20,
   "metadata": {},
   "outputs": [
    {
     "name": "stdout",
     "output_type": "stream",
     "text": [
      "None\n",
      "None\n",
      "None\n",
      "None\n"
     ]
    }
   ],
   "source": [
    "print(net.fc1.weight.grad)\n",
    "print(net.fc1.bias.grad)\n",
    "print(net.fc2.weight.grad)\n",
    "print(net.fc2.bias.grad)"
   ]
  },
  {
   "cell_type": "code",
   "execution_count": 21,
   "metadata": {},
   "outputs": [],
   "source": [
    "loss.backward()"
   ]
  },
  {
   "cell_type": "code",
   "execution_count": 22,
   "metadata": {},
   "outputs": [
    {
     "name": "stdout",
     "output_type": "stream",
     "text": [
      "tensor([[0.0000, 0.0000, 0.0000, 0.0000],\n",
      "        [0.7165, 0.3319, 0.5857, 0.2248],\n",
      "        [0.0000, 0.0000, 0.0000, 0.0000],\n",
      "        [0.0000, 0.0000, 0.0000, 0.0000]])\n",
      "tensor([0.0000, 0.1137, 0.0000, 0.0000])\n",
      "tensor([[ 0.0000,  0.0375,  0.0000,  0.0000],\n",
      "        [ 0.0000,  0.0202,  0.0000,  0.0000],\n",
      "        [ 0.0000, -0.0577,  0.0000,  0.0000]])\n",
      "tensor([ 0.3361, -0.1451, -0.1909])\n"
     ]
    }
   ],
   "source": [
    "print(net.fc1.weight.grad)\n",
    "print(net.fc1.bias.grad)\n",
    "print(net.fc2.weight.grad)\n",
    "print(net.fc2.bias.grad)"
   ]
  },
  {
   "cell_type": "code",
   "execution_count": 23,
   "metadata": {},
   "outputs": [],
   "source": [
    "optimizer.step()"
   ]
  },
  {
   "cell_type": "code",
   "execution_count": 24,
   "metadata": {},
   "outputs": [
    {
     "name": "stdout",
     "output_type": "stream",
     "text": [
      "Parameter containing:\n",
      "tensor([[-0.0037,  0.2682, -0.4115, -0.3680],\n",
      "        [-0.2642,  0.1009, -0.0685,  0.3740],\n",
      "        [-0.0444,  0.1323, -0.1511, -0.0983],\n",
      "        [-0.4777, -0.3311, -0.2061,  0.0185]], requires_grad=True)\n",
      "Parameter containing:\n",
      "tensor([ 0.1977,  0.2886, -0.3390, -0.2177], requires_grad=True)\n",
      "Parameter containing:\n",
      "tensor([[ 0.1816,  0.4114, -0.1029,  0.3742],\n",
      "        [-0.0806,  0.0509,  0.4527, -0.4638],\n",
      "        [-0.3148, -0.1208, -0.1949,  0.4320]], requires_grad=True)\n",
      "Parameter containing:\n",
      "tensor([-0.3577, -0.2157, -0.3302], requires_grad=True)\n"
     ]
    }
   ],
   "source": [
    "print(net.fc1.weight)\n",
    "print(net.fc1.bias)\n",
    "print(net.fc2.weight)\n",
    "print(net.fc2.bias)"
   ]
  },
  {
   "cell_type": "code",
   "execution_count": 25,
   "metadata": {},
   "outputs": [
    {
     "name": "stdout",
     "output_type": "stream",
     "text": [
      "cpu\n",
      "loss:  1.0713388919830322\n",
      "loss:  1.0183022022247314\n",
      "loss:  1.0249149799346924\n",
      "loss:  1.0236347913742065\n",
      "loss:  0.9283109903335571\n",
      "loss:  1.0791465044021606\n",
      "loss:  0.9329780340194702\n",
      "loss:  0.9698535203933716\n",
      "loss:  0.9219404458999634\n"
     ]
    }
   ],
   "source": [
    "device = torch.device('cuda:0' if torch.cuda.is_available() else 'cpu')\n",
    "print(device)\n",
    "\n",
    "max_epoch = 1\n",
    "\n",
    "for epoch in range(max_epoch):\n",
    "\n",
    "    for batch in train_loader:\n",
    "\n",
    "        x, t = batch\n",
    "\n",
    "        x = x.to(device)\n",
    "        t = t.to(device)\n",
    "\n",
    "        optimizer.zero_grad()\n",
    "\n",
    "        y = net(x)\n",
    "\n",
    "        loss = criterion(y, t)\n",
    "\n",
    "        print('loss: ', loss.item())\n",
    "\n",
    "        loss.backward()\n",
    "\n",
    "        optimizer.step()"
   ]
  },
  {
   "cell_type": "code",
   "execution_count": 26,
   "metadata": {},
   "outputs": [
    {
     "name": "stdout",
     "output_type": "stream",
     "text": [
      "tensor([[-0.2115, -0.1763, -0.0029,  0.0160],\n",
      "        [ 0.0000,  0.0000,  0.0000,  0.0000],\n",
      "        [ 0.0000,  0.0000,  0.0000,  0.0000],\n",
      "        [ 0.0000,  0.0000,  0.0000,  0.0000]])\n",
      "tensor([-0.0469,  0.0000,  0.0000,  0.0000])\n",
      "tensor([[-0.2135,  0.0000,  0.0000,  0.0000],\n",
      "        [ 0.0884,  0.0000,  0.0000,  0.0000],\n",
      "        [ 0.1251,  0.0000,  0.0000,  0.0000]])\n",
      "tensor([ 0.0920,  0.0332, -0.1252])\n"
     ]
    }
   ],
   "source": [
    "print(net.fc1.weight.grad)\n",
    "print(net.fc1.bias.grad)\n",
    "print(net.fc2.weight.grad)\n",
    "print(net.fc2.bias.grad)"
   ]
  },
  {
   "cell_type": "code",
   "execution_count": null,
   "metadata": {},
   "outputs": [],
   "source": []
  }
 ],
 "metadata": {
  "kernelspec": {
   "display_name": "Python 3",
   "language": "python",
   "name": "python3"
  },
  "language_info": {
   "codemirror_mode": {
    "name": "ipython",
    "version": 3
   },
   "file_extension": ".py",
   "mimetype": "text/x-python",
   "name": "python",
   "nbconvert_exporter": "python",
   "pygments_lexer": "ipython3",
   "version": "3.7.4"
  }
 },
 "nbformat": 4,
 "nbformat_minor": 4
}
